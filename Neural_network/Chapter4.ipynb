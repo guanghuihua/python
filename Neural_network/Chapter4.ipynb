{
 "cells": [
  {
   "cell_type": "markdown",
   "metadata": {},
   "source": [
    "# chapter4 使用张量表征真实数据\n",
    "\n",
    "事实上，神经网络内部和优化过程中的所有操作都是张量之间的操作，神经网络中的所有参数都是张量，如权重和偏置。"
   ]
  },
  {
   "cell_type": "code",
   "execution_count": null,
   "metadata": {},
   "outputs": [],
   "source": [
    "\n",
    "\n"
   ]
  },
  {
   "cell_type": "code",
   "execution_count": 2,
   "metadata": {},
   "outputs": [
    {
     "name": "stdout",
     "output_type": "stream",
     "text": [
      "(720, 1280, 3)\n"
     ]
    }
   ],
   "source": [
    "## 处理图像\n",
    "\n",
    "import torch\n",
    "\n",
    "import imageio.v2\n",
    "\n",
    "img_arr = imageio.v2.imread('~/file/ML/dlwpt-code/data/p1ch4/image-dog/bobby.jpg')\n",
    "print(img_arr.shape)"
   ]
  },
  {
   "cell_type": "code",
   "execution_count": 17,
   "metadata": {},
   "outputs": [],
   "source": [
    "# 改变布局\n",
    "\n",
    "## permute() \n",
    "img = torch.from_numpy(img_arr)\n",
    "out = img.permute(2, 0, 1)\n",
    "\n",
    "\n",
    "## 按照我们对早期数据类型使用的策略，创建一个多图像的数据集作为神经网络的输入，我们沿着第一维批量存储图像，\n",
    "## 以获得一个 N × C × H × W 的张量。\n",
    "## 与使用 stack()构建张量相比，一个更有效的替代方法是，我们可以预先分配一个适当大小的张量，并使用从目录中加载的图像填充它\n",
    "\n",
    "batch_size = 3\n",
    "batch = torch.zeros(batch_size, 3, 256, 256)\n",
    "\n",
    "import os\n",
    "\n",
    "data_dir = '/home/ubuntu/file/ML/dlwpt-code/data/p1ch4/image-cats/'\n",
    "filenames = [name for name in os.listdir(data_dir) \n",
    "             if os.path.splitext(name)[-1] == '.png']\n",
    "for i,filename in enumerate(filenames):\n",
    "    img_arr = imageio.v2.imread(os.path.join(data_dir, filename))\n",
    "    img_t = torch.from_numpy(img_arr)\n",
    "    img_t = img_t.permute(2,0,1)\n",
    "    img_t = img_t[:3]\n",
    "    batch[i] = img_t"
   ]
  },
  {
   "cell_type": "code",
   "execution_count": 20,
   "metadata": {},
   "outputs": [
    {
     "data": {
      "text/plain": [
       "torch.Size([3, 3, 256, 256])"
      ]
     },
     "execution_count": 20,
     "metadata": {},
     "output_type": "execute_result"
    }
   ],
   "source": [
    "## 成功创建一个多图像的数据集作为神经网络的输入\n",
    "batch.shape"
   ]
  },
  {
   "cell_type": "markdown",
   "metadata": {},
   "source": [
    "### 正规化数据\n",
    "\n",
    "当输入数据的范围为 0～1 或−1～1 时，神经网络表现出最佳的训练性能，这是其构建块的定义方式所决定的。\n",
    "\n",
    "我们要做的一件典型的事情就是将张量转换为浮点数并对像素的值进行归一化\n",
    "\n",
    "正规化的一种方法是将像素值除以 255（8 位无符号二进制数可表示的最大数字）\n",
    "\n",
    "正规化的另一种方法是计算输入数据的均值和标准差，并对其进行缩放，使每个通道的均值为 0，标准差为 1"
   ]
  },
  {
   "cell_type": "code",
   "execution_count": 23,
   "metadata": {},
   "outputs": [],
   "source": [
    "# 将张量强制转换为浮点数\n",
    "batch = batch.float()\n",
    "\n",
    "# 归一化\n",
    "batch /= float(255)"
   ]
  },
  {
   "cell_type": "code",
   "execution_count": 26,
   "metadata": {},
   "outputs": [],
   "source": [
    "n_channels = batch.shape[1]\n",
    "for c in range(n_channels):\n",
    "    mean = torch.mean(batch[:, c])\n",
    "    std = torch.std(batch[:, c])\n",
    "    batch[:, c] = (batch[:, c] - mean) / std"
   ]
  },
  {
   "cell_type": "code",
   "execution_count": 35,
   "metadata": {},
   "outputs": [
    {
     "name": "stdout",
     "output_type": "stream",
     "text": [
      "0 torch.Size([3, 256, 256])\n",
      "1 torch.Size([3, 256, 256])\n",
      "2 torch.Size([3, 256, 256])\n"
     ]
    }
   ],
   "source": [
    "n_channels = batch.shape[1]\n",
    "for c in range(n_channels):\n",
    "    print(c, batch[:,c].shape)\n",
    "    mean = torch.mean(batch[:, c])\n",
    "    std = torch.std(batch[:, c])\n",
    "    "
   ]
  },
  {
   "cell_type": "code",
   "execution_count": 36,
   "metadata": {},
   "outputs": [
    {
     "data": {
      "text/plain": [
       "torch.Size([3, 256, 256])"
      ]
     },
     "execution_count": 36,
     "metadata": {},
     "output_type": "execute_result"
    }
   ],
   "source": [
    "batch[:,1].shape"
   ]
  },
  {
   "cell_type": "code",
   "execution_count": 43,
   "metadata": {},
   "outputs": [
    {
     "data": {
      "text/plain": [
       "torch.Size([3, 256, 256])"
      ]
     },
     "execution_count": 43,
     "metadata": {},
     "output_type": "execute_result"
    }
   ],
   "source": [
    "batch[:,1].shape\n",
    "batch[1,:].shape"
   ]
  },
  {
   "cell_type": "code",
   "execution_count": 46,
   "metadata": {},
   "outputs": [],
   "source": [
    "a = torch.rand([3,2,3,4])"
   ]
  },
  {
   "cell_type": "code",
   "execution_count": 47,
   "metadata": {},
   "outputs": [
    {
     "data": {
      "text/plain": [
       "tensor([[[[0.2036, 0.1803, 0.3882, 0.8197],\n",
       "          [0.2566, 0.8078, 0.4767, 0.8659],\n",
       "          [0.9309, 0.5618, 0.3974, 0.3450]],\n",
       "\n",
       "         [[0.6258, 0.0412, 0.0608, 0.2393],\n",
       "          [0.0269, 0.7392, 0.9776, 0.5544],\n",
       "          [0.4145, 0.6694, 0.0462, 0.9635]]],\n",
       "\n",
       "\n",
       "        [[[0.4616, 0.4723, 0.4983, 0.8584],\n",
       "          [0.8925, 0.9223, 0.7976, 0.2435],\n",
       "          [0.6339, 0.3539, 0.1752, 0.1674]],\n",
       "\n",
       "         [[0.3353, 0.6724, 0.6198, 0.2484],\n",
       "          [0.6353, 0.8932, 0.9237, 0.1482],\n",
       "          [0.0175, 0.3702, 0.0572, 0.5351]]],\n",
       "\n",
       "\n",
       "        [[[0.7152, 0.9851, 0.0199, 0.5832],\n",
       "          [0.6179, 0.4614, 0.5874, 0.0628],\n",
       "          [0.2169, 0.6840, 0.0116, 0.0149]],\n",
       "\n",
       "         [[0.1078, 0.2877, 0.8019, 0.4452],\n",
       "          [0.3014, 0.6793, 0.6283, 0.5117],\n",
       "          [0.7041, 0.6258, 0.6920, 0.1998]]]])"
      ]
     },
     "execution_count": 47,
     "metadata": {},
     "output_type": "execute_result"
    }
   ],
   "source": [
    "a[]"
   ]
  },
  {
   "cell_type": "code",
   "execution_count": 53,
   "metadata": {},
   "outputs": [
    {
     "data": {
      "text/plain": [
       "tensor([[0.2036, 0.1803, 0.3882, 0.8197],\n",
       "        [0.2566, 0.8078, 0.4767, 0.8659],\n",
       "        [0.9309, 0.5618, 0.3974, 0.3450]])"
      ]
     },
     "execution_count": 53,
     "metadata": {},
     "output_type": "execute_result"
    }
   ],
   "source": [
    "a[0,0,:]"
   ]
  },
  {
   "cell_type": "code",
   "execution_count": null,
   "metadata": {},
   "outputs": [],
   "source": []
  },
  {
   "cell_type": "code",
   "execution_count": null,
   "metadata": {},
   "outputs": [],
   "source": []
  },
  {
   "cell_type": "markdown",
   "metadata": {},
   "source": [
    "# 5 学习的机制\n",
    "\n",
    "事实上，在本书中，说我们将拟合数据和说我们将使算法从数据中学习几乎没有区别。\n",
    "这个过程总是涉及一个函数，它有许多未知参数，这些参数的值是从数据中估计出来的：简而言之，这就是一个模型。\n",
    "\n",
    "我们可以认为，从数据中学习的假设是基础模型不是为了解决特定问题而设计的（就像开普勒研究中的椭圆一样），而是能够近似更广泛的函数族。神经网络可以很好地预测 Tycho Brahe的轨迹，而不需要依靠开普勒闪电般的洞察力来尝试将数据拟合成椭圆\n",
    "\n",
    "<font color=red>给定输入数据和相应的期望输出（实际数据），以及权重的初始值，给模型输入数据（正向传播），并通过对输出结果与实际数据进行比较来评估误差。为了优化模型参数，即它的权重，**权重单位变化后的误差变化（误差相对参数的梯度）是使用复合函数的导数的链式法则计算的（反向传播）**。然后，在使误差减小的方向上更新权重值。重复该过程，直到根据未知的数据评估的误差降到可接受的水平。</font>"
   ]
  },
  {
   "cell_type": "code",
   "execution_count": 2,
   "metadata": {},
   "outputs": [],
   "source": [
    "import torch\n",
    "t_c = [0.5, 14.0, 15.0, 28.0, 11.0, 8.0, 3.0, -4.0, 6.0, 13.0, 21.0] \n",
    "t_u = [35.7, 55.9, 58.2, 81.9, 56.3, 48.9, 33.9, 21.8, 48.4, 60.4, 68.4] \n",
    "t_c = torch.tensor(t_c) \n",
    "t_u = torch.tensor(t_u)"
   ]
  },
  {
   "cell_type": "markdown",
   "metadata": {},
   "source": [
    "## 5.3 减少损失是我们想要的"
   ]
  },
  {
   "cell_type": "code",
   "execution_count": 4,
   "metadata": {},
   "outputs": [],
   "source": [
    "'''\n",
    "t_c 值是以摄氏度为单位的温度\n",
    "t_c = w * t_u + b\n",
    "\n",
    "而t_u 值是我们未知的单位\n",
    "\n",
    "t_p 模型输出的预测温度\n",
    "t_p = model(t_u, w, b)\n",
    "'''\n",
    "\n",
    "def model(t_u, w, b):\n",
    "    return w*t_u + b\n",
    "\n",
    "#  t_p 模型输出的预测温度 !!!\n",
    "def loss_fn(t_p, t_c): \n",
    "    squared_diffs = (t_p - t_c)**2  \n",
    "    return squared_diffs.mean()  # mena() 对得到的张量中的所有元素求平均值得到一个标量损失函数，即均方损失函数MSE(mean square estimation)\n",
    "\n",
    "w = torch.ones(()) \n",
    "b = torch.zeros(()) \n",
    "t_p = model(t_u, w, b)\n",
    "\n",
    "loss = loss_fn(t_p, t_c) "
   ]
  },
  {
   "cell_type": "markdown",
   "metadata": {},
   "source": [
    "## 如何估计 w 和 b，以使损失达到最小？  \n",
    "\n",
    "###  方法1. 计算变化率的方法\n",
    "\n",
    "梯度下降其思想是计算各参数的损失变化率，并在减小损失变化率的方向上修改各参数。\n",
    "\n",
    "$$\n",
    "\\frac{\\partial{L}}{\\partial{w}} = \\frac{L(w + \\delta) - L(w - \\delta)}{2\\delta}\n",
    "$$"
   ]
  },
  {
   "cell_type": "markdown",
   "metadata": {},
   "source": [
    "在 w 和 b 的当前值附近，w 的增加会导致损失的一些变化。\n",
    "\n",
    "如果变化是负的，那么我们需要增加 w 来最小化损失，<font color='red'>而如果变化是正的，我们需要减小 w 的值。</font>\n",
    "\n",
    "那么值具体增加或减小多少呢？\n",
    "\n",
    "<font color=red> 对 w 应用一个与损失的变化率成比例的变化是一个好主意，特别是当损失有多个参数时：我们将一个变化应用于那些可以使损失产生重大变化的参数。</font>\n",
    "\n",
    "$$\n",
    "\\delta = learning\\_rate\n",
    "$$\n",
    "\n",
    "$$\n",
    "w = w-\\delta*\\frac{\\partial L}{\\partial w} \n",
    "$$\n",
    "\n",
    "\n",
    "$$\n",
    "b = b-\\delta*\\frac{\\partial L}{\\partial b}\n",
    "$$\n",
    "\n",
    "一般来说，缓慢地改变参数也是明智的，因为在距离当前 w 值的邻域很远的地方，改变的速率可能会有显著的不同。\n",
    "\n",
    "因此，我们通常应该用一个小的比例因子来衡量变化率。这个比例因子有很多名称，我们在机器学习中称为学习率（learning_rate）："
   ]
  },
  {
   "cell_type": "code",
   "execution_count": 6,
   "metadata": {},
   "outputs": [],
   "source": [
    "delta = 0.1 \n",
    "loss_rate_of_change_w =  (loss_fn(model(t_u, w + delta, b), t_c) -  loss_fn(model(t_u, w - delta, b), t_c)) / (2.0 * delta)\n",
    "\n",
    "loss_rate_of_change_b =  (loss_fn(model(t_u, w, b + delta), t_c) -  loss_fn(model(t_u, w, b - delta), t_c)) / (2.0 * delta) \n",
    "learning_rate = 1e-2 \n",
    "w = w - learning_rate * loss_rate_of_change_w #而如果变化是正的，我们需要减小 w 的值\n",
    "b = b - learning_rate * loss_rate_of_change_b"
   ]
  },
  {
   "cell_type": "markdown",
   "metadata": {},
   "source": [
    "以上操作表示梯度下降基本参数的更新步骤。\n",
    "\n",
    "通过重复以上评估步骤（只要我们选择一个足够小的学习率），我们将收敛到在给定数据上使损失最小的参数的最优值。\n",
    "\n",
    "<font color=red>但是我们刚刚计算变化率的方法相当粗糙,我们选择 delta等于 0.1，但这完全取决于由 w 和 b 构成的损失函数的形状。如果与 delta 相比，损失变化太快，我们就无法很好地知道损失在哪个方向上减小得最快。</font>\n",
    "\n",
    "###  方法2. 沿着梯度下降 -->链式法则\n",
    "\n",
    "$$ \\frac{dL}{dw} = \\frac{dL}{dt_p} * \\frac{dt_p}{dw}$$\n",
    "$$ \\frac{dL}{dt_p} = 2*(t_p - t_c)$$\n",
    "\n",
    "$$t_p = t_u*w + b $$\n",
    "\n",
    "$$ \\frac{dt_p}{dw} = t_u$$\n",
    "\n",
    "$$\\frac{dt_p}{db} = 1.0 $$"
   ]
  },
  {
   "cell_type": "code",
   "execution_count": 13,
   "metadata": {},
   "outputs": [
    {
     "data": {
      "text/plain": [
       "tensor([6.4000, 7.6182, 7.8545, 9.8000, 8.2364, 7.4364, 5.6182, 4.6909, 7.7091,\n",
       "        8.6182, 8.6182])"
      ]
     },
     "execution_count": 13,
     "metadata": {},
     "output_type": "execute_result"
    }
   ],
   "source": [
    "2*(t_p - t_c)/11"
   ]
  },
  {
   "cell_type": "code",
   "execution_count": 15,
   "metadata": {},
   "outputs": [],
   "source": [
    "def model(t_u, w, b):\n",
    "    return w*t_u + b\n",
    "\n",
    "def loss_fn(t_p, t_c): \n",
    "    squared_diffs = (t_p - t_c)**2  \n",
    "    return squared_diffs.mean()\n",
    "\n",
    "\n",
    "# /frac{/partial L}{/partial t_p} = 2*(t_p -t_c) \n",
    "# The variables here are all tensor. \n",
    "def dloss_fn(t_p, t_c): \n",
    "    dsq_diffs = 2 * (t_p - t_c) / t_p.size(0)  # t_p.size(0) = 11, To get averange\n",
    "    return dsq_diffs\n",
    "\n",
    "def dmodel_dw(t_u, w, b): \n",
    "    return t_u\n",
    "\n",
    "def dmodel_db(t_u, w, b): \n",
    "    return 1.0\n",
    "\n",
    "def grad_fn(t_u, t_c, t_p, w, b): \n",
    "    dloss_dtp = dloss_fn(t_p, t_c) \n",
    "    dloss_dw = dloss_dtp * dmodel_dw(t_u, w, b) \n",
    "    dloss_db = dloss_dtp * dmodel_db(t_u, w, b) \n",
    "    return torch.stack([dloss_dw.sum(), dloss_db.sum()])  "
   ]
  },
  {
   "cell_type": "code",
   "execution_count": 26,
   "metadata": {},
   "outputs": [
    {
     "name": "stdout",
     "output_type": "stream",
     "text": [
      "Epoch 1, Loss 1763.884766\n",
      "\t Params:tensor([-44.1730,  -0.8260])\n",
      "\t Grad:  tensor([4517.2964,   82.6000])\n",
      "Epoch 2, Loss 5802484.500000\n",
      "\t Params:tensor([2568.4011,   45.1637])\n",
      "\t Grad:  tensor([-261257.4062,   -4598.9702])\n",
      "Epoch 3, Loss 19408029696.000000\n",
      "\t Params:tensor([-148527.7344,   -2616.3931])\n",
      "\t Grad:  tensor([15109614.0000,   266155.6875])\n",
      "Epoch 4, Loss 64915905708032.000000\n",
      "\t Params:tensor([8589999.0000,  151310.8906])\n",
      "\t Grad:  tensor([-8.7385e+08, -1.5393e+07])\n",
      "Epoch 5, Loss 217130525461053440.000000\n",
      "\t Params:tensor([-4.9680e+08, -8.7510e+06])\n",
      "\t Grad:  tensor([5.0539e+10, 8.9023e+08])\n",
      "Epoch 6, Loss 726257583152928129024.000000\n",
      "\t Params:tensor([2.8732e+10, 5.0610e+08])\n",
      "\t Grad:  tensor([-2.9229e+12, -5.1486e+10])\n",
      "Epoch 7, Loss 2429183416467662896627712.000000\n",
      "\t Params:tensor([-1.6617e+12, -2.9270e+10])\n",
      "\t Grad:  tensor([1.6904e+14, 2.9776e+12])\n",
      "Epoch 8, Loss 8125122549611731432050262016.000000\n",
      "\t Params:tensor([9.6102e+13, 1.6928e+12])\n",
      "\t Grad:  tensor([-9.7764e+15, -1.7221e+14])\n",
      "Epoch 9, Loss 27176882120842590626938030653440.000000\n",
      "\t Params:tensor([-5.5580e+15, -9.7903e+13])\n",
      "\t Grad:  tensor([5.6541e+17, 9.9596e+15])\n",
      "Epoch 10, Loss 90901105189019073810297959556841472.000000\n",
      "\t Params:tensor([3.2144e+17, 5.6621e+15])\n",
      "\t Grad:  tensor([-3.2700e+19, -5.7600e+17])\n"
     ]
    },
    {
     "data": {
      "text/plain": [
       "tensor([3.2144e+17, 5.6621e+15])"
      ]
     },
     "execution_count": 26,
     "metadata": {},
     "output_type": "execute_result"
    }
   ],
   "source": [
    "def training_loop(n_epochs, learning_rate, params, t_u, t_c): \n",
    "    for epoch in range(1, n_epochs + 1): \n",
    "        w, b = params \n",
    "        t_p = model(t_u, w, b) \n",
    "        loss = loss_fn(t_p, t_c) \n",
    "        grad = grad_fn(t_u, t_c, t_p, w, b) \n",
    "        params = params - learning_rate * grad \n",
    "        print('Epoch %d, Loss %f' % (epoch, float(loss)))\n",
    "        print(\"\\t\",\"Params:{}\".format(params))\n",
    "        print(\"\\t\",\"Grad:  {}\".format(grad))\n",
    "    return params\n",
    "\n",
    "training_loop( \n",
    " n_epochs = 10, \n",
    " learning_rate = 1e-2, \n",
    " params = torch.tensor([1.0, 0.0]), \n",
    " t_u = t_u, \n",
    " t_c = t_c)"
   ]
  },
  {
   "cell_type": "code",
   "execution_count": 27,
   "metadata": {},
   "outputs": [
    {
     "name": "stdout",
     "output_type": "stream",
     "text": [
      "Epoch 1, Loss 1763.884766\n",
      "\t Params:tensor([ 0.5483, -0.0083])\n",
      "\t Grad:  tensor([4517.2964,   82.6000])\n",
      "Epoch 2, Loss 323.090515\n",
      "\t Params:tensor([ 0.3623, -0.0118])\n",
      "\t Grad:  tensor([1859.5493,   35.7843])\n",
      "Epoch 3, Loss 78.929634\n",
      "\t Params:tensor([ 0.2858, -0.0135])\n",
      "\t Grad:  tensor([765.4666,  16.5122])\n",
      "Epoch 4, Loss 37.552845\n",
      "\t Params:tensor([ 0.2543, -0.0143])\n",
      "\t Grad:  tensor([315.0790,   8.5787])\n",
      "Epoch 5, Loss 30.540283\n",
      "\t Params:tensor([ 0.2413, -0.0149])\n",
      "\t Grad:  tensor([129.6733,   5.3127])\n",
      "Epoch 6, Loss 29.351154\n",
      "\t Params:tensor([ 0.2360, -0.0153])\n",
      "\t Grad:  tensor([53.3495,  3.9682])\n",
      "Epoch 7, Loss 29.148884\n",
      "\t Params:tensor([ 0.2338, -0.0156])\n",
      "\t Grad:  tensor([21.9304,  3.4148])\n",
      "Epoch 8, Loss 29.113848\n",
      "\t Params:tensor([ 0.2329, -0.0159])\n",
      "\t Grad:  tensor([8.9964, 3.1869])\n",
      "Epoch 9, Loss 29.107145\n",
      "\t Params:tensor([ 0.2325, -0.0162])\n",
      "\t Grad:  tensor([3.6721, 3.0930])\n",
      "Epoch 10, Loss 29.105247\n",
      "\t Params:tensor([ 0.2324, -0.0166])\n",
      "\t Grad:  tensor([1.4803, 3.0544])\n",
      "Epoch 11, Loss 29.104168\n",
      "\t Params:tensor([ 0.2323, -0.0169])\n",
      "\t Grad:  tensor([0.5781, 3.0384])\n",
      "Epoch 12, Loss 29.103222\n",
      "\t Params:tensor([ 0.2323, -0.0172])\n",
      "\t Grad:  tensor([0.2066, 3.0318])\n",
      "Epoch 13, Loss 29.102295\n",
      "\t Params:tensor([ 0.2323, -0.0175])\n",
      "\t Grad:  tensor([0.0537, 3.0291])\n",
      "Epoch 14, Loss 29.101379\n",
      "\t Params:tensor([ 0.2323, -0.0178])\n",
      "\t Grad:  tensor([-0.0093,  3.0279])\n",
      "Epoch 15, Loss 29.100466\n",
      "\t Params:tensor([ 0.2323, -0.0181])\n",
      "\t Grad:  tensor([-0.0353,  3.0274])\n",
      "Epoch 16, Loss 29.099548\n",
      "\t Params:tensor([ 0.2323, -0.0184])\n",
      "\t Grad:  tensor([-0.0459,  3.0272])\n",
      "Epoch 17, Loss 29.098631\n",
      "\t Params:tensor([ 0.2323, -0.0187])\n",
      "\t Grad:  tensor([-0.0502,  3.0270])\n",
      "Epoch 18, Loss 29.097717\n",
      "\t Params:tensor([ 0.2323, -0.0190])\n",
      "\t Grad:  tensor([-0.0520,  3.0270])\n",
      "Epoch 19, Loss 29.096796\n",
      "\t Params:tensor([ 0.2323, -0.0193])\n",
      "\t Grad:  tensor([-0.0528,  3.0269])\n",
      "Epoch 20, Loss 29.095881\n",
      "\t Params:tensor([ 0.2323, -0.0196])\n",
      "\t Grad:  tensor([-0.0531,  3.0268])\n",
      "Epoch 21, Loss 29.094959\n",
      "\t Params:tensor([ 0.2323, -0.0199])\n",
      "\t Grad:  tensor([-0.0533,  3.0268])\n",
      "Epoch 22, Loss 29.094049\n",
      "\t Params:tensor([ 0.2323, -0.0202])\n",
      "\t Grad:  tensor([-0.0533,  3.0267])\n",
      "Epoch 23, Loss 29.093134\n",
      "\t Params:tensor([ 0.2323, -0.0205])\n",
      "\t Grad:  tensor([-0.0533,  3.0267])\n",
      "Epoch 24, Loss 29.092216\n",
      "\t Params:tensor([ 0.2323, -0.0208])\n",
      "\t Grad:  tensor([-0.0533,  3.0266])\n",
      "Epoch 25, Loss 29.091301\n",
      "\t Params:tensor([ 0.2323, -0.0211])\n",
      "\t Grad:  tensor([-0.0533,  3.0266])\n",
      "Epoch 26, Loss 29.090385\n",
      "\t Params:tensor([ 0.2323, -0.0214])\n",
      "\t Grad:  tensor([-0.0533,  3.0265])\n",
      "Epoch 27, Loss 29.089464\n",
      "\t Params:tensor([ 0.2323, -0.0217])\n",
      "\t Grad:  tensor([-0.0533,  3.0265])\n",
      "Epoch 28, Loss 29.088551\n",
      "\t Params:tensor([ 0.2323, -0.0220])\n",
      "\t Grad:  tensor([-0.0532,  3.0264])\n",
      "Epoch 29, Loss 29.087635\n",
      "\t Params:tensor([ 0.2323, -0.0223])\n",
      "\t Grad:  tensor([-0.0533,  3.0264])\n",
      "Epoch 30, Loss 29.086714\n",
      "\t Params:tensor([ 0.2323, -0.0226])\n",
      "\t Grad:  tensor([-0.0533,  3.0263])\n",
      "Epoch 31, Loss 29.085804\n",
      "\t Params:tensor([ 0.2324, -0.0229])\n",
      "\t Grad:  tensor([-0.0532,  3.0262])\n",
      "Epoch 32, Loss 29.084888\n",
      "\t Params:tensor([ 0.2324, -0.0232])\n",
      "\t Grad:  tensor([-0.0533,  3.0262])\n",
      "Epoch 33, Loss 29.083967\n",
      "\t Params:tensor([ 0.2324, -0.0235])\n",
      "\t Grad:  tensor([-0.0533,  3.0261])\n",
      "Epoch 34, Loss 29.083057\n",
      "\t Params:tensor([ 0.2324, -0.0238])\n",
      "\t Grad:  tensor([-0.0533,  3.0261])\n",
      "Epoch 35, Loss 29.082142\n",
      "\t Params:tensor([ 0.2324, -0.0241])\n",
      "\t Grad:  tensor([-0.0532,  3.0260])\n",
      "Epoch 36, Loss 29.081221\n",
      "\t Params:tensor([ 0.2324, -0.0244])\n",
      "\t Grad:  tensor([-0.0533,  3.0260])\n",
      "Epoch 37, Loss 29.080309\n",
      "\t Params:tensor([ 0.2324, -0.0247])\n",
      "\t Grad:  tensor([-0.0533,  3.0259])\n",
      "Epoch 38, Loss 29.079390\n",
      "\t Params:tensor([ 0.2324, -0.0250])\n",
      "\t Grad:  tensor([-0.0532,  3.0259])\n",
      "Epoch 39, Loss 29.078474\n",
      "\t Params:tensor([ 0.2324, -0.0253])\n",
      "\t Grad:  tensor([-0.0533,  3.0258])\n",
      "Epoch 40, Loss 29.077562\n",
      "\t Params:tensor([ 0.2324, -0.0256])\n",
      "\t Grad:  tensor([-0.0533,  3.0258])\n",
      "Epoch 41, Loss 29.076649\n",
      "\t Params:tensor([ 0.2324, -0.0259])\n",
      "\t Grad:  tensor([-0.0533,  3.0257])\n",
      "Epoch 42, Loss 29.075731\n",
      "\t Params:tensor([ 0.2324, -0.0262])\n",
      "\t Grad:  tensor([-0.0532,  3.0257])\n",
      "Epoch 43, Loss 29.074812\n",
      "\t Params:tensor([ 0.2324, -0.0265])\n",
      "\t Grad:  tensor([-0.0533,  3.0256])\n",
      "Epoch 44, Loss 29.073895\n",
      "\t Params:tensor([ 0.2324, -0.0268])\n",
      "\t Grad:  tensor([-0.0533,  3.0256])\n",
      "Epoch 45, Loss 29.072981\n",
      "\t Params:tensor([ 0.2324, -0.0271])\n",
      "\t Grad:  tensor([-0.0533,  3.0255])\n",
      "Epoch 46, Loss 29.072069\n",
      "\t Params:tensor([ 0.2324, -0.0274])\n",
      "\t Grad:  tensor([-0.0533,  3.0254])\n",
      "Epoch 47, Loss 29.071148\n",
      "\t Params:tensor([ 0.2324, -0.0277])\n",
      "\t Grad:  tensor([-0.0533,  3.0254])\n",
      "Epoch 48, Loss 29.070234\n",
      "\t Params:tensor([ 0.2324, -0.0281])\n",
      "\t Grad:  tensor([-0.0533,  3.0253])\n",
      "Epoch 49, Loss 29.069323\n",
      "\t Params:tensor([ 0.2325, -0.0284])\n",
      "\t Grad:  tensor([-0.0533,  3.0253])\n",
      "Epoch 50, Loss 29.068401\n",
      "\t Params:tensor([ 0.2325, -0.0287])\n",
      "\t Grad:  tensor([-0.0532,  3.0252])\n",
      "Epoch 51, Loss 29.067486\n",
      "\t Params:tensor([ 0.2325, -0.0290])\n",
      "\t Grad:  tensor([-0.0533,  3.0252])\n",
      "Epoch 52, Loss 29.066566\n",
      "\t Params:tensor([ 0.2325, -0.0293])\n",
      "\t Grad:  tensor([-0.0533,  3.0251])\n",
      "Epoch 53, Loss 29.065657\n",
      "\t Params:tensor([ 0.2325, -0.0296])\n",
      "\t Grad:  tensor([-0.0533,  3.0251])\n",
      "Epoch 54, Loss 29.064741\n",
      "\t Params:tensor([ 0.2325, -0.0299])\n",
      "\t Grad:  tensor([-0.0533,  3.0250])\n",
      "Epoch 55, Loss 29.063826\n",
      "\t Params:tensor([ 0.2325, -0.0302])\n",
      "\t Grad:  tensor([-0.0532,  3.0250])\n",
      "Epoch 56, Loss 29.062910\n",
      "\t Params:tensor([ 0.2325, -0.0305])\n",
      "\t Grad:  tensor([-0.0533,  3.0249])\n",
      "Epoch 57, Loss 29.061995\n",
      "\t Params:tensor([ 0.2325, -0.0308])\n",
      "\t Grad:  tensor([-0.0532,  3.0249])\n",
      "Epoch 58, Loss 29.061079\n",
      "\t Params:tensor([ 0.2325, -0.0311])\n",
      "\t Grad:  tensor([-0.0533,  3.0248])\n",
      "Epoch 59, Loss 29.060169\n",
      "\t Params:tensor([ 0.2325, -0.0314])\n",
      "\t Grad:  tensor([-0.0533,  3.0248])\n",
      "Epoch 60, Loss 29.059248\n",
      "\t Params:tensor([ 0.2325, -0.0317])\n",
      "\t Grad:  tensor([-0.0533,  3.0247])\n",
      "Epoch 61, Loss 29.058336\n",
      "\t Params:tensor([ 0.2325, -0.0320])\n",
      "\t Grad:  tensor([-0.0533,  3.0247])\n",
      "Epoch 62, Loss 29.057415\n",
      "\t Params:tensor([ 0.2325, -0.0323])\n",
      "\t Grad:  tensor([-0.0534,  3.0246])\n",
      "Epoch 63, Loss 29.056507\n",
      "\t Params:tensor([ 0.2325, -0.0326])\n",
      "\t Grad:  tensor([-0.0533,  3.0245])\n",
      "Epoch 64, Loss 29.055586\n",
      "\t Params:tensor([ 0.2325, -0.0329])\n",
      "\t Grad:  tensor([-0.0532,  3.0245])\n",
      "Epoch 65, Loss 29.054674\n",
      "\t Params:tensor([ 0.2325, -0.0332])\n",
      "\t Grad:  tensor([-0.0533,  3.0244])\n",
      "Epoch 66, Loss 29.053761\n",
      "\t Params:tensor([ 0.2325, -0.0335])\n",
      "\t Grad:  tensor([-0.0533,  3.0244])\n",
      "Epoch 67, Loss 29.052843\n",
      "\t Params:tensor([ 0.2325, -0.0338])\n",
      "\t Grad:  tensor([-0.0533,  3.0243])\n",
      "Epoch 68, Loss 29.051929\n",
      "\t Params:tensor([ 0.2326, -0.0341])\n",
      "\t Grad:  tensor([-0.0532,  3.0243])\n",
      "Epoch 69, Loss 29.051012\n",
      "\t Params:tensor([ 0.2326, -0.0344])\n",
      "\t Grad:  tensor([-0.0533,  3.0242])\n",
      "Epoch 70, Loss 29.050098\n",
      "\t Params:tensor([ 0.2326, -0.0347])\n",
      "\t Grad:  tensor([-0.0532,  3.0242])\n",
      "Epoch 71, Loss 29.049183\n",
      "\t Params:tensor([ 0.2326, -0.0350])\n",
      "\t Grad:  tensor([-0.0533,  3.0241])\n",
      "Epoch 72, Loss 29.048273\n",
      "\t Params:tensor([ 0.2326, -0.0353])\n",
      "\t Grad:  tensor([-0.0533,  3.0241])\n",
      "Epoch 73, Loss 29.047350\n",
      "\t Params:tensor([ 0.2326, -0.0356])\n",
      "\t Grad:  tensor([-0.0532,  3.0240])\n",
      "Epoch 74, Loss 29.046442\n",
      "\t Params:tensor([ 0.2326, -0.0359])\n",
      "\t Grad:  tensor([-0.0533,  3.0240])\n",
      "Epoch 75, Loss 29.045530\n",
      "\t Params:tensor([ 0.2326, -0.0362])\n",
      "\t Grad:  tensor([-0.0532,  3.0239])\n",
      "Epoch 76, Loss 29.044611\n",
      "\t Params:tensor([ 0.2326, -0.0365])\n",
      "\t Grad:  tensor([-0.0533,  3.0239])\n",
      "Epoch 77, Loss 29.043699\n",
      "\t Params:tensor([ 0.2326, -0.0368])\n",
      "\t Grad:  tensor([-0.0533,  3.0238])\n",
      "Epoch 78, Loss 29.042784\n",
      "\t Params:tensor([ 0.2326, -0.0371])\n",
      "\t Grad:  tensor([-0.0533,  3.0238])\n",
      "Epoch 79, Loss 29.041870\n",
      "\t Params:tensor([ 0.2326, -0.0374])\n",
      "\t Grad:  tensor([-0.0533,  3.0237])\n",
      "Epoch 80, Loss 29.040955\n",
      "\t Params:tensor([ 0.2326, -0.0377])\n",
      "\t Grad:  tensor([-0.0532,  3.0236])\n",
      "Epoch 81, Loss 29.040039\n",
      "\t Params:tensor([ 0.2326, -0.0380])\n",
      "\t Grad:  tensor([-0.0534,  3.0236])\n",
      "Epoch 82, Loss 29.039122\n",
      "\t Params:tensor([ 0.2326, -0.0383])\n",
      "\t Grad:  tensor([-0.0533,  3.0235])\n",
      "Epoch 83, Loss 29.038210\n",
      "\t Params:tensor([ 0.2326, -0.0386])\n",
      "\t Grad:  tensor([-0.0532,  3.0235])\n",
      "Epoch 84, Loss 29.037294\n",
      "\t Params:tensor([ 0.2326, -0.0389])\n",
      "\t Grad:  tensor([-0.0533,  3.0234])\n",
      "Epoch 85, Loss 29.036379\n",
      "\t Params:tensor([ 0.2326, -0.0392])\n",
      "\t Grad:  tensor([-0.0533,  3.0234])\n",
      "Epoch 86, Loss 29.035463\n",
      "\t Params:tensor([ 0.2326, -0.0395])\n",
      "\t Grad:  tensor([-0.0532,  3.0233])\n",
      "Epoch 87, Loss 29.034554\n",
      "\t Params:tensor([ 0.2327, -0.0398])\n",
      "\t Grad:  tensor([-0.0533,  3.0233])\n",
      "Epoch 88, Loss 29.033636\n",
      "\t Params:tensor([ 0.2327, -0.0401])\n",
      "\t Grad:  tensor([-0.0532,  3.0232])\n",
      "Epoch 89, Loss 29.032722\n",
      "\t Params:tensor([ 0.2327, -0.0405])\n",
      "\t Grad:  tensor([-0.0533,  3.0232])\n",
      "Epoch 90, Loss 29.031811\n",
      "\t Params:tensor([ 0.2327, -0.0408])\n",
      "\t Grad:  tensor([-0.0533,  3.0231])\n",
      "Epoch 91, Loss 29.030895\n",
      "\t Params:tensor([ 0.2327, -0.0411])\n",
      "\t Grad:  tensor([-0.0532,  3.0231])\n",
      "Epoch 92, Loss 29.029976\n",
      "\t Params:tensor([ 0.2327, -0.0414])\n",
      "\t Grad:  tensor([-0.0532,  3.0230])\n",
      "Epoch 93, Loss 29.029066\n",
      "\t Params:tensor([ 0.2327, -0.0417])\n",
      "\t Grad:  tensor([-0.0533,  3.0230])\n",
      "Epoch 94, Loss 29.028151\n",
      "\t Params:tensor([ 0.2327, -0.0420])\n",
      "\t Grad:  tensor([-0.0532,  3.0229])\n",
      "Epoch 95, Loss 29.027235\n",
      "\t Params:tensor([ 0.2327, -0.0423])\n",
      "\t Grad:  tensor([-0.0533,  3.0229])\n",
      "Epoch 96, Loss 29.026323\n",
      "\t Params:tensor([ 0.2327, -0.0426])\n",
      "\t Grad:  tensor([-0.0533,  3.0228])\n",
      "Epoch 97, Loss 29.025410\n",
      "\t Params:tensor([ 0.2327, -0.0429])\n",
      "\t Grad:  tensor([-0.0532,  3.0227])\n",
      "Epoch 98, Loss 29.024492\n",
      "\t Params:tensor([ 0.2327, -0.0432])\n",
      "\t Grad:  tensor([-0.0532,  3.0227])\n",
      "Epoch 99, Loss 29.023582\n",
      "\t Params:tensor([ 0.2327, -0.0435])\n",
      "\t Grad:  tensor([-0.0533,  3.0226])\n",
      "Epoch 100, Loss 29.022667\n",
      "\t Params:tensor([ 0.2327, -0.0438])\n",
      "\t Grad:  tensor([-0.0532,  3.0226])\n"
     ]
    },
    {
     "data": {
      "text/plain": [
       "tensor([ 0.2327, -0.0438])"
      ]
     },
     "execution_count": 27,
     "metadata": {},
     "output_type": "execute_result"
    }
   ],
   "source": [
    "#事实上，当训练进行得不像我们希望的那样好时，我们通常会改变学习率，所以我们可以尝试使用 1e-3 或 1e-4，这会以数量级减少更新的次数。\n",
    "\n",
    "training_loop( \n",
    " n_epochs = 100, \n",
    " learning_rate = 1e-4, \n",
    " params = torch.tensor([1.0, 0.0]), \n",
    " t_u = t_u, \n",
    " t_c = t_c)"
   ]
  },
  {
   "cell_type": "code",
   "execution_count": 29,
   "metadata": {},
   "outputs": [
    {
     "data": {
      "text/plain": [
       "[<matplotlib.lines.Line2D at 0x7f9268227c40>]"
      ]
     },
     "execution_count": 29,
     "metadata": {},
     "output_type": "execute_result"
    },
    {
     "data": {
      "image/png": "[encoded data removed]",
      "text/plain": [
       "<Figure size 3600x2400 with 1 Axes>"
      ]
     },
     "metadata": {
      "needs_background": "light"
     },
     "output_type": "display_data"
    }
   ],
   "source": [
    "def training_loop(n_epochs, learning_rate, params, t_u, t_c,print_params): \n",
    "    for epoch in range(1, n_epochs + 1): \n",
    "        w, b = params \n",
    "        t_p = model(t_u, w, b) \n",
    "        loss = loss_fn(t_p, t_c) \n",
    "        grad = grad_fn(t_u, t_c, t_p, w, b) \n",
    "        params = params - learning_rate * grad \n",
    "        if print_params == True:\n",
    "            print('Epoch %d, Loss %f' % (epoch, float(loss)))\n",
    "            print(\"\\t\",\"Params:{}\".format(params))\n",
    "            print(\"\\t\",\"Grad:  {}\".format(grad))\n",
    "    return params\n",
    "\n",
    "t_un = 0.1 * t_u\n",
    "params = training_loop(\n",
    "    n_epochs = 5000,\n",
    "    learning_rate = 1e-2,\n",
    "    params = torch.tensor([1.0, 0.0]),\n",
    "    t_u = t_un,\n",
    "    t_c = t_c,\n",
    "    print_params = False)\n",
    "\n",
    "\n",
    "\n",
    "%matplotlib inline\n",
    "from matplotlib import pyplot as plt\n",
    "t_p = model(t_un, *params)\n",
    "fig = plt.figure(dpi=600)\n",
    "plt.xlabel(\"Temperature (° Fahrenheit)\")\n",
    "plt.ylabel(\"Temperature (° Celsius)\")\n",
    "plt.plot(t_u.numpy(), t_p.detach().numpy())\n",
    "plt.plot(t_u.numpy(), t_c.numpy(), 'o')"
   ]
  },
  {
   "cell_type": "code",
   "execution_count": null,
   "metadata": {},
   "outputs": [],
   "source": []
  },
  {
   "cell_type": "code",
   "execution_count": null,
   "metadata": {},
   "outputs": [],
   "source": []
  },
  {
   "cell_type": "code",
   "execution_count": 38,
   "metadata": {},
   "outputs": [
    {
     "data": {
      "text/plain": [
       "True"
      ]
     },
     "execution_count": 38,
     "metadata": {},
     "output_type": "execute_result"
    }
   ],
   "source": [
    "params = torch.tensor([1.0, 0.0], requires_grad = True)\n",
    "params.grad is None"
   ]
  },
  {
   "cell_type": "code",
   "execution_count": 36,
   "metadata": {},
   "outputs": [
    {
     "data": {
      "text/plain": [
       "tensor([4517.2969,   82.6000])"
      ]
     },
     "execution_count": 36,
     "metadata": {},
     "output_type": "execute_result"
    }
   ],
   "source": [
    "def model(t_u, w, b):\n",
    "    return w*t_u + b\n",
    "def loss_fn(t_p, t_c): \n",
    "    squared_diffs = (t_p - t_c)**2  \n",
    "    return squared_diffs.mean()\n",
    "\n",
    "loss = loss_fn(model(t_u, *params), t_c)\n",
    "loss.backward()\n",
    "\n",
    "params.grad #此时，params 的 grad 属性包含关于 params 的每个元素的损失的导数。"
   ]
  },
  {
   "cell_type": "code",
   "execution_count": 41,
   "metadata": {},
   "outputs": [
    {
     "data": {
      "text/plain": [
       "tensor([13551.8906,   247.8000])"
      ]
     },
     "execution_count": 41,
     "metadata": {},
     "output_type": "execute_result"
    }
   ],
   "source": [
    "# 调用 backward()将导致导数在叶节点上累加，因此如果提前调用backward()，则会再次计算损失，\n",
    "# 再次调用 backward()（就像在任何训练循环中一样），每个叶节点上的梯度将在上一次迭代中计算的梯度之上累加（求和），这会导致梯度计算不正确\n",
    "\n",
    "loss = loss_fn(model(t_u, *params), t_c)\n",
    "loss.backward()\n",
    "\n",
    "params.grad #此时，params 的 grad 属性包含关于 params 的每个元素的损失的导数。"
   ]
  },
  {
   "cell_type": "code",
   "execution_count": 47,
   "metadata": {},
   "outputs": [
    {
     "data": {
      "text/plain": [
       "tensor([0., 0.])"
      ]
     },
     "execution_count": 47,
     "metadata": {},
     "output_type": "execute_result"
    }
   ],
   "source": [
    "# 为了防止这种情况发生，我们需要在每次迭代时明确地将梯度归零\n",
    "\n",
    "if params.grad is not None:\n",
    "    params.grad.zero_()\n",
    "    \n",
    "params.grad"
   ]
  },
  {
   "cell_type": "code",
   "execution_count": 60,
   "metadata": {},
   "outputs": [
    {
     "ename": "RuntimeError",
     "evalue": "element 0 of tensors does not require grad and does not have a grad_fn",
     "output_type": "error",
     "traceback": [
      "\u001b[0;31m---------------------------------------------------------------------------\u001b[0m",
      "\u001b[0;31mRuntimeError\u001b[0m                              Traceback (most recent call last)",
      "\u001b[0;32m<ipython-input-60-396c2953ed7b>\u001b[0m in \u001b[0;36m<module>\u001b[0;34m\u001b[0m\n\u001b[1;32m     16\u001b[0m     \u001b[0;32mreturn\u001b[0m \u001b[0mparams\u001b[0m\u001b[0;34m\u001b[0m\u001b[0;34m\u001b[0m\u001b[0m\n\u001b[1;32m     17\u001b[0m \u001b[0;34m\u001b[0m\u001b[0m\n\u001b[0;32m---> 18\u001b[0;31m training_loop(\n\u001b[0m\u001b[1;32m     19\u001b[0m     \u001b[0mn_epochs\u001b[0m \u001b[0;34m=\u001b[0m \u001b[0;36m5000\u001b[0m\u001b[0;34m,\u001b[0m\u001b[0;34m\u001b[0m\u001b[0;34m\u001b[0m\u001b[0m\n\u001b[1;32m     20\u001b[0m     \u001b[0mlearning_rate\u001b[0m \u001b[0;34m=\u001b[0m \u001b[0;36m1e-2\u001b[0m\u001b[0;34m,\u001b[0m\u001b[0;34m\u001b[0m\u001b[0;34m\u001b[0m\u001b[0m\n",
      "\u001b[0;32m<ipython-input-60-396c2953ed7b>\u001b[0m in \u001b[0;36mtraining_loop\u001b[0;34m(n_epochs, learning_rate, params, t_u, t_c)\u001b[0m\n\u001b[1;32m      5\u001b[0m \u001b[0;34m\u001b[0m\u001b[0m\n\u001b[1;32m      6\u001b[0m         \u001b[0mloss\u001b[0m \u001b[0;34m=\u001b[0m \u001b[0mloss_fn\u001b[0m\u001b[0;34m(\u001b[0m\u001b[0mmodel\u001b[0m\u001b[0;34m(\u001b[0m\u001b[0mt_u\u001b[0m\u001b[0;34m,\u001b[0m \u001b[0;34m*\u001b[0m\u001b[0mparams\u001b[0m\u001b[0;34m)\u001b[0m\u001b[0;34m,\u001b[0m \u001b[0mt_c\u001b[0m\u001b[0;34m)\u001b[0m\u001b[0;34m\u001b[0m\u001b[0;34m\u001b[0m\u001b[0m\n\u001b[0;32m----> 7\u001b[0;31m         \u001b[0mloss\u001b[0m\u001b[0;34m.\u001b[0m\u001b[0mbackward\u001b[0m\u001b[0;34m(\u001b[0m\u001b[0;34m)\u001b[0m\u001b[0;34m\u001b[0m\u001b[0;34m\u001b[0m\u001b[0m\n\u001b[0m\u001b[1;32m      8\u001b[0m         \u001b[0;32mwith\u001b[0m \u001b[0mtorch\u001b[0m\u001b[0;34m.\u001b[0m\u001b[0mno_grad\u001b[0m\u001b[0;34m(\u001b[0m\u001b[0;34m)\u001b[0m\u001b[0;34m:\u001b[0m\u001b[0;34m\u001b[0m\u001b[0;34m\u001b[0m\u001b[0m\n\u001b[1;32m      9\u001b[0m             \u001b[0mparams\u001b[0m \u001b[0;34m=\u001b[0m \u001b[0mparams\u001b[0m \u001b[0;34m-\u001b[0m \u001b[0mlearning_rate\u001b[0m \u001b[0;34m*\u001b[0m \u001b[0mparams\u001b[0m\u001b[0;34m.\u001b[0m\u001b[0mgrad\u001b[0m\u001b[0;34m\u001b[0m\u001b[0;34m\u001b[0m\u001b[0m\n",
      "\u001b[0;32m~/.local/lib/python3.8/site-packages/torch/_tensor.py\u001b[0m in \u001b[0;36mbackward\u001b[0;34m(self, gradient, retain_graph, create_graph, inputs)\u001b[0m\n\u001b[1;32m    490\u001b[0m                 \u001b[0minputs\u001b[0m\u001b[0;34m=\u001b[0m\u001b[0minputs\u001b[0m\u001b[0;34m,\u001b[0m\u001b[0;34m\u001b[0m\u001b[0;34m\u001b[0m\u001b[0m\n\u001b[1;32m    491\u001b[0m             )\n\u001b[0;32m--> 492\u001b[0;31m         torch.autograd.backward(\n\u001b[0m\u001b[1;32m    493\u001b[0m             \u001b[0mself\u001b[0m\u001b[0;34m,\u001b[0m \u001b[0mgradient\u001b[0m\u001b[0;34m,\u001b[0m \u001b[0mretain_graph\u001b[0m\u001b[0;34m,\u001b[0m \u001b[0mcreate_graph\u001b[0m\u001b[0;34m,\u001b[0m \u001b[0minputs\u001b[0m\u001b[0;34m=\u001b[0m\u001b[0minputs\u001b[0m\u001b[0;34m\u001b[0m\u001b[0;34m\u001b[0m\u001b[0m\n\u001b[1;32m    494\u001b[0m         )\n",
      "\u001b[0;32m~/.local/lib/python3.8/site-packages/torch/autograd/__init__.py\u001b[0m in \u001b[0;36mbackward\u001b[0;34m(tensors, grad_tensors, retain_graph, create_graph, grad_variables, inputs)\u001b[0m\n\u001b[1;32m    249\u001b[0m     \u001b[0;31m# some Python versions print out the first line of a multi-line function\u001b[0m\u001b[0;34m\u001b[0m\u001b[0;34m\u001b[0m\u001b[0;34m\u001b[0m\u001b[0m\n\u001b[1;32m    250\u001b[0m     \u001b[0;31m# calls in the traceback and some print out the last line\u001b[0m\u001b[0;34m\u001b[0m\u001b[0;34m\u001b[0m\u001b[0;34m\u001b[0m\u001b[0m\n\u001b[0;32m--> 251\u001b[0;31m     Variable._execution_engine.run_backward(  # Calls into the C++ engine to run the backward pass\n\u001b[0m\u001b[1;32m    252\u001b[0m         \u001b[0mtensors\u001b[0m\u001b[0;34m,\u001b[0m\u001b[0;34m\u001b[0m\u001b[0;34m\u001b[0m\u001b[0m\n\u001b[1;32m    253\u001b[0m         \u001b[0mgrad_tensors_\u001b[0m\u001b[0;34m,\u001b[0m\u001b[0;34m\u001b[0m\u001b[0;34m\u001b[0m\u001b[0m\n",
      "\u001b[0;31mRuntimeError\u001b[0m: element 0 of tensors does not require grad and does not have a grad_fn"
     ]
    }
   ],
   "source": [
    "def training_loop(n_epochs, learning_rate, params, t_u, t_c):\n",
    "    for epoch in range(1, n_epochs+1):\n",
    "        if params.grad is not None:\n",
    "            params.grad.zero_()\n",
    "\n",
    "        loss = loss_fn(model(t_u, *params), t_c)\n",
    "        loss.backward()\n",
    "        with torch.no_grad():\n",
    "            params = params - learning_rate * params.grad\n",
    "        \n",
    "        if epoch % 500 == 0:\n",
    "            print('Epoch %d, Loss %f' % (epoch, float(loss)))\n",
    "        # print(\"\\t\",\"Params:{}\".format(params))\n",
    "        # print(\"\\t\",\"Grad:  {}\".format(params.grad))\n",
    "    \n",
    "    return params\n",
    "\n",
    "training_loop(\n",
    "    n_epochs = 5000,\n",
    "    learning_rate = 1e-2,\n",
    "    params = torch.tensor([1.0, 0.0], requires_grad = True),\n",
    "    t_u = t_un,\n",
    "    t_c = t_c\n",
    ")"
   ]
  },
  {
   "cell_type": "code",
   "execution_count": 64,
   "metadata": {},
   "outputs": [
    {
     "name": "stdout",
     "output_type": "stream",
     "text": [
      "Epoch 500, Loss 7.860120\n",
      "Epoch 1000, Loss 3.828538\n",
      "Epoch 1500, Loss 3.092191\n",
      "Epoch 2000, Loss 2.957698\n",
      "Epoch 2500, Loss 2.933134\n",
      "Epoch 3000, Loss 2.928648\n",
      "Epoch 3500, Loss 2.927830\n",
      "Epoch 4000, Loss 2.927679\n",
      "Epoch 4500, Loss 2.927652\n",
      "Epoch 5000, Loss 2.927647\n"
     ]
    },
    {
     "data": {
      "text/plain": [
       "tensor([  5.3671, -17.3012], requires_grad=True)"
      ]
     },
     "execution_count": 64,
     "metadata": {},
     "output_type": "execute_result"
    }
   ],
   "source": [
    "import torch.optim as optim\n",
    "\n",
    "def training_loop(n_epochs, optimizer, params, t_u, t_c):\n",
    "    for epoch in range(1, n_epochs + 1):\n",
    "        t_p = model(t_u, *params)\n",
    "        loss = loss_fn(t_p, t_c)\n",
    "        \n",
    "        optimizer.zero_grad()\n",
    "        loss.backward()\n",
    "        optimizer.step()\n",
    "        \n",
    "        if epoch % 500 == 0:\n",
    "            print('Epoch %d, Loss %f' % (epoch, float(loss)))\n",
    "    return params\n",
    "\n",
    "params = torch.tensor([1.0, 0.0], requires_grad=True)\n",
    "learning_rate = 1e-2\n",
    "optimizer = optim.SGD([params], lr=learning_rate)\n",
    "\n",
    "training_loop(\n",
    "    n_epochs = 5000,\n",
    "    optimizer = optimizer,\n",
    "    params = params,\n",
    "    t_u = t_un,\n",
    "    t_c = t_c)"
   ]
  },
  {
   "cell_type": "code",
   "execution_count": null,
   "metadata": {},
   "outputs": [],
   "source": []
  },
  {
   "cell_type": "code",
   "execution_count": null,
   "metadata": {},
   "outputs": [],
   "source": []
  },
  {
   "cell_type": "code",
   "execution_count": 67,
   "metadata": {},
   "outputs": [],
   "source": [
    "# 分割数据集\n",
    "\n",
    "n_samples = t_u.shape[0]\n",
    "n_val = int(0.2 * n_samples)\n",
    "shuffled_indices = torch.randperm(n_samples)\n",
    "train_indices = shuffled_indices[:-n_val]\n",
    "val_indices = shuffled_indices[-n_val:]\n",
    "train_indices, val_indices\n",
    "\n",
    "train_t_u = t_u[train_indices]\n",
    "train_t_c = t_c[train_indices]\n",
    "val_t_u = t_u[val_indices]\n",
    "val_t_c = t_c[val_indices]\n",
    "train_t_un = 0.1 * train_t_u\n",
    "val_t_un = 0.1 * val_t_u"
   ]
  },
  {
   "cell_type": "code",
   "execution_count": 68,
   "metadata": {},
   "outputs": [
    {
     "data": {
      "text/plain": [
       "tensor([55.9000, 35.7000, 48.4000, 58.2000, 21.8000, 33.9000, 68.4000, 60.4000,\n",
       "        81.9000])"
      ]
     },
     "execution_count": 68,
     "metadata": {},
     "output_type": "execute_result"
    }
   ],
   "source": [
    "train_t_u"
   ]
  },
  {
   "cell_type": "code",
   "execution_count": null,
   "metadata": {},
   "outputs": [],
   "source": []
  }
 ],
 "metadata": {
  "kernelspec": {
   "display_name": "Python 3",
   "language": "python",
   "name": "python3"
  },
  "language_info": {
   "codemirror_mode": {
    "name": "ipython",
    "version": 3
   },
   "file_extension": ".py",
   "mimetype": "text/x-python",
   "name": "python",
   "nbconvert_exporter": "python",
   "pygments_lexer": "ipython3",
   "version": "3.8.10"
  }
 },
 "nbformat": 4,
 "nbformat_minor": 4
}
