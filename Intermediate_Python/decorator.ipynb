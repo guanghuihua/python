{
 "cells": [
  {
   "cell_type": "code",
   "execution_count": 39,
   "metadata": {},
   "outputs": [
    {
     "name": "stdout",
     "output_type": "stream",
     "text": [
      "foo() results:\n",
      "Flag\n",
      "foo was called\n",
      "2024--3-09\n",
      "\n",
      "\n",
      "log(foo)() results:\n",
      "Flag\n",
      "foo was called\n",
      "Flag\n",
      "foo was called\n",
      "2024--3-09\n",
      "\n",
      "\n",
      "log(foo()) results:\n",
      "Flag\n",
      "foo was called\n",
      "2024--3-09\n",
      "\n",
      "\n",
      "Flag\n",
      "foo was called\n",
      "2024--3-09\n",
      "Flag\n",
      "AttributeError\n",
      "\n",
      "\n",
      "now() results:\n",
      "2024--3-09\n",
      "\n",
      "\n",
      "log(now)() results:\n",
      "Flag\n",
      "now was called\n",
      "2024--3-09\n",
      "\n",
      "\n",
      "log(log(now))() results:\n",
      "Flag\n",
      "now was called\n",
      "Flag\n",
      "now was called\n",
      "2024--3-09\n",
      "\n",
      "\n",
      "log(now()) results:\n",
      "2024--3-09\n",
      "\n",
      "\n",
      "2024--3-09\n",
      "Flag\n",
      "AttributeError\n"
     ]
    }
   ],
   "source": [
    "# 理解装饰器其实就是高阶函数\n",
    "\n",
    "from functools import wraps\n",
    "\n",
    "def log(func):\n",
    "    @wraps(func)\n",
    "    def wrapper(*args, **kw):\n",
    "        print(\"Flag\")\n",
    "        log_string = func.__name__ + ' was called' \n",
    "        print(log_string)\n",
    "        return func(*args, **kw)\n",
    "    return wrapper\n",
    "\n",
    "@log\n",
    "def foo():\n",
    "    print('2024--3-09')\n",
    "    # pass\n",
    "    return\n",
    "\n",
    "def now():\n",
    "    print('2024--3-09')\n",
    "    return\n",
    "    \n",
    "\n",
    "\n",
    "print(\"foo() results:\")\n",
    "foo()\n",
    "print('\\n')\n",
    "\n",
    "print(\"log(foo)() results:\")\n",
    "log(foo)()\n",
    "print('\\n')\n",
    "\n",
    "print('log(foo()) results:')\n",
    "log(foo())\n",
    "print('\\n')\n",
    "\n",
    "try:\n",
    "    log(foo())()\n",
    "except AttributeError:\n",
    "    print(\"AttributeError\")\n",
    "\n",
    "\n",
    "print('\\n')\n",
    "print('now() results:')\n",
    "now()\n",
    "print('\\n')\n",
    "\n",
    "print('log(now)() results:')\n",
    "log(now)()\n",
    "print('\\n')\n",
    "\n",
    "print('log(log(now))() results:')\n",
    "log(log(now))()\n",
    "print('\\n')\n",
    "\n",
    "print('log(now()) results:')\n",
    "log(now())\n",
    "print('\\n')\n",
    "\n",
    "try:\n",
    "    log(now())()\n",
    "except AttributeError:\n",
    "    print(\"AttributeError\")"
   ]
  },
  {
   "cell_type": "code",
   "execution_count": 45,
   "metadata": {},
   "outputs": [
    {
     "name": "stdout",
     "output_type": "stream",
     "text": [
      "foo was called\n",
      "-------------------\n",
      "addition_func was called\n",
      "此处错误是因为在with_logging()函数内部，`return func()`没有传递参数导致的， \n",
      "所以应该养成习惯，被装饰函数无论有没有参数，都应写为retun func(*args, **kw)\n"
     ]
    }
   ],
   "source": [
    "from functools import wraps\n",
    "\n",
    "\"\"\"\n",
    "这里，是为了提醒 return func(*args, **kw)\n",
    "比如foo()没有传参数，为什么在`with_loggint`中还要`return func(*args, **kw)`\n",
    "因为有时候foo(x)是有参数的，此时`return func()`会引发TypeError\n",
    "所以此处最好都写成`return func(*args, **kw)`\n",
    "\"\"\"\n",
    "\n",
    "def logit(func):\n",
    "    @wraps(func)\n",
    "    def with_logging(*args, **kw):\n",
    "        log_string = func.__name__ + ' was called' \n",
    "        print(log_string)\n",
    "        return func()\n",
    "        # return func(*args, **kw)\n",
    "    return with_logging\n",
    "\n",
    "@logit\n",
    "def foo():\n",
    "    pass\n",
    "\n",
    "foo()\n",
    "print('-------------------')\n",
    "\n",
    "@logit\n",
    "def addition_func(x):\n",
    "   \"\"\"Do some math.\"\"\"\n",
    "   return x + x\n",
    " \n",
    "try :\n",
    "    result = addition_func(4)\n",
    "except TypeError:\n",
    "    print(\"此处引发TypeErrof是因为在with_logging()函数内部，`return func()`没有传递参数导致的， \\n\"+\n",
    "          \"所以应该养成习惯，被装饰函数无论有没有参数，都应写为retun func(*args, **kw)\")"
   ]
  },
  {
   "cell_type": "markdown",
   "metadata": {},
   "source": [
    "### 带参数的装饰器"
   ]
  },
  {
   "cell_type": "code",
   "execution_count": 20,
   "metadata": {},
   "outputs": [
    {
     "name": "stdout",
     "output_type": "stream",
     "text": [
      "foo was called.\n",
      "bar was called.\n"
     ]
    }
   ],
   "source": [
    "from functools import wraps\n",
    "\n",
    "def logit(logfile = 'out.log'):\n",
    "    def logging_decorator(func):\n",
    "        @wraps(func)\n",
    "        def wrapped_function(*args, **kw):\n",
    "            log_string = func.__name__+\" was called.\"\n",
    "            print(log_string) \n",
    "            with open(logfile, 'a') as opened_file:\n",
    "                opened_file.write(log_string + '\\n')\n",
    "            return func(*args, **kw)\n",
    "        return wrapped_function\n",
    "    return logging_decorator\n",
    "\n",
    "@logit() #<<<<<<<<<<<<<<<<<一定注意此处添加()\n",
    "def foo():\n",
    "    pass\n",
    "\n",
    "foo()\n",
    "\n",
    "@logit('bar.log')\n",
    "def bar():\n",
    "    pass\n",
    "\n",
    "\n",
    "bar()"
   ]
  },
  {
   "cell_type": "markdown",
   "metadata": {},
   "source": [
    "### 类装饰器\n",
    "\n",
    "有时你只想打日志到一个文件。而有时你想把引起你注意的问题发送到一个email，同时也保留日志，留个记录。这是一个使用继承的场景，但目前为止我们只看到过用来构建装饰器的函数。\n",
    "\n",
    "幸运的是，类也可以用来构建装饰器。那我们现在以一个类而不是一个函数的方式，来重新构建logit。"
   ]
  },
  {
   "cell_type": "code",
   "execution_count": 23,
   "metadata": {},
   "outputs": [
    {
     "name": "stdout",
     "output_type": "stream",
     "text": [
      "foo was called.\n"
     ]
    }
   ],
   "source": [
    "from functools import wraps\n",
    "\n",
    "class logit():\n",
    "    def __init__(self, logfile = 'out.log'):\n",
    "        self.logfile = logfile\n",
    "\n",
    "    def __call__(self, func):\n",
    "        @wraps(func)\n",
    "        def wrapped_function(*args, **kw):\n",
    "            log_string = func.__name__ + ' was called.' \n",
    "            print(log_string)\n",
    "            \n",
    "            # 打开logfile并写入\n",
    "            with open(self.logfile, 'a') as opened_file:\n",
    "                # 现在将日志打到指定的文件\n",
    "                opened_file.write(log_string + '\\n')\n",
    "                \n",
    "            # 现在，发送一个通知\n",
    "            self.notify()\n",
    "            return func(*args, **kw)\n",
    "        return wrapped_function\n",
    "    \n",
    "    def notify(self):\n",
    "        # logit只打日志，不做别的\n",
    "        pass\n",
    "    \n",
    "@logit()\n",
    "def foo():\n",
    "    pass\n",
    "\n",
    "foo()"
   ]
  },
  {
   "cell_type": "code",
   "execution_count": 26,
   "metadata": {},
   "outputs": [
    {
     "name": "stdout",
     "output_type": "stream",
     "text": [
      "bar was called.\n",
      "Has sent an email to admin!\n"
     ]
    }
   ],
   "source": [
    "# 现在，我们给 logit 创建子类，来添加 email 的功能(虽然 email 这个话题不会在这里展开)。\n",
    "class email_logit(logit):\n",
    "    def __init__(self, email = 'guanghui-hua@qq.com', *args, **kw):\n",
    "        self.email = email\n",
    "        super(email_logit, self).__init__(*args, **kw)\n",
    "        \n",
    "    def notify(self):\n",
    "        # 发送一封email到self.email\n",
    "        # 这里就不做实现了\n",
    "        print(\"Has sent an email to admin!\")\n",
    "        pass\n",
    "\n",
    "@email_logit()\n",
    "def bar():\n",
    "    pass\n",
    "\n",
    "bar()\n",
    "# 从现在起，@email_logit 将会和 @logit 产生同样的效果，但是在打日志的基础上，还会多发送一封邮件给管理员"
   ]
  },
  {
   "cell_type": "code",
   "execution_count": null,
   "metadata": {},
   "outputs": [],
   "source": []
  }
 ],
 "metadata": {
  "kernelspec": {
   "display_name": "Python 3",
   "language": "python",
   "name": "python3"
  },
  "language_info": {
   "codemirror_mode": {
    "name": "ipython",
    "version": 3
   },
   "file_extension": ".py",
   "mimetype": "text/x-python",
   "name": "python",
   "nbconvert_exporter": "python",
   "pygments_lexer": "ipython3",
   "version": "3.8.10"
  }
 },
 "nbformat": 4,
 "nbformat_minor": 2
}
