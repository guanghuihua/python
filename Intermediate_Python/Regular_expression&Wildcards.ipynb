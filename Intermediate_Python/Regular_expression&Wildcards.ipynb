{
 "metadata": {
  "language_info": {
   "codemirror_mode": {
    "name": "ipython",
    "version": 3
   },
   "file_extension": ".py",
   "mimetype": "text/x-python",
   "name": "python",
   "nbconvert_exporter": "python",
   "pygments_lexer": "ipython3",
   "version": "3.7.0-final"
  },
  "orig_nbformat": 2,
  "kernelspec": {
   "name": "python370jvsc74a57bd096eb50e1d44aed467dc8f759cb08c32fbfa9babcf79c554e2d0e5feb04653a10",
   "display_name": "Python 3.7.0 64-bit"
  }
 },
 "nbformat": 4,
 "nbformat_minor": 2,
 "cells": [
  {
   "source": [
    "# 正则表达式(regular expression)\n",
    "+ 正则表达式是一个特殊的字符序列，利用事先定义好的一些特定字符以及它们的组合组成一个“规则”，检查一个字符串是否与这种规则匹配来实现对字符的进行过滤。  \n",
    "+ 正则表达式是字符串处理的有力工具，但是并不是Python独有的，其他语言也有。  \n",
    "+ Python中，re模块提供了正则表达式操作所需要的功能。  \n",
    "+ re - Support for regular expressions (RE).\n",
    "+ 构造正则表达式的方法和创建数学表达式的方法一样。也就是用多种元字符与运算符可以将小的表达式结合在一起来创建更大的表达式。正则表达式的组件可以是单个的字符、字符集合、字符范围、字符间的选择或者所有这些组件的任意组合。  \n",
    "+ 正则表达式是由普通字符（例如字符 a 到 z）以及**_特殊字符（称为\"元字符\"）_**组成的文字模式。模式描述在搜索文本时要匹配的一个或多个字符串。正则表达式作为一个模板，将某个字符模式与所搜索的字符串进行匹配。\n"
   ],
   "cell_type": "markdown",
   "metadata": {}
  },
  {
   "source": [
    "正则表达式 - 语法  \n",
    "正则表达式(regular expression)描述了一种字符串匹配的模式（pattern），可以用来检查一个串是否含有某种子串、将匹配的子串替换或者从某个串中取出符合某个条件的子串等。\n",
    "\n",
    "例如：\n",
    "\n",
    "runoo+b，可以匹配 runoob、runooob、runoooooob 等，+ 号代表前面的字符必须至少出现一次（1次或多次）。\n",
    "\n",
    "runoo*b，可以匹配 runob、runoob、runoooooob 等，* 号代表前面的字符可以不出现，也可以出现一次或者多次（0次、或1次、或多次）。\n",
    "\n",
    "colou?r 可以匹配 color 或者 colour，? 问号代表前面的字符最多只可以出现一次（0次、或1次）。\n",
    "\n",
    "构造正则表达式的方法和创建数学表达式的方法一样。也就是用多种元字符与运算符可以将小的表达式结合在一起来创建更大的表达式。正则表达式的组件可以是单个的字符、字符集合、字符范围、字符间的选择或者所有这些组件的任意组合。\n",
    "\n",
    "正则表达式是由普通字符（例如字符 a 到 z）以及特殊字符（称为\"元字符\"）组成的文字模式。模式描述在搜索文本时要匹配的一个或多个字符串。正则表达式作为一个模板，将某个字符模式与所搜索的字符串进行匹配。"
   ],
   "cell_type": "markdown",
   "metadata": {}
  },
  {
   "source": [
    "大多数字母和字符一般都会和自身匹配；如果在字符串前面加了r，表示对字符串不进行转义；  \n",
    "有些字符比较特殊，它们和自身并不匹配，而是表明应和一些特殊的东西匹配，或者会影响重复次数，这些特殊的字符我们称之为元字符"
   ],
   "cell_type": "markdown",
   "metadata": {}
  },
  {
   "cell_type": "code",
   "execution_count": 2,
   "metadata": {},
   "outputs": [
    {
     "output_type": "stream",
     "name": "stdout",
     "text": [
      "\\tmath\\tstatistic\n\tmath\tstatistic\n"
     ]
    }
   ],
   "source": [
    "print(r'\\tmath\\tstatistic')  #添加r对字符串不转义\n",
    "print('\\tmath\\tstatistic')"
   ]
  },
  {
   "source": [
    "+ re模块中findall()方法以列表的形式返回所有能匹配的子串，如果没有找到匹配的，则返回空列表。\n"
   ],
   "cell_type": "markdown",
   "metadata": {}
  },
  {
   "cell_type": "code",
   "execution_count": 4,
   "metadata": {},
   "outputs": [
    {
     "output_type": "stream",
     "name": "stdout",
     "text": [
      "[]\n['abc', 'abc']\n"
     ]
    }
   ],
   "source": [
    "import re\n",
    "print(re.findall('abc','aabbcc'))   #没有匹配到\n",
    "print(re.findall('abc','aabccabcbacb'))"
   ]
  },
  {
   "source": [
    "## 下面来介绍元字符，即特殊字符\n",
    "+ “.”：表示除换行符以外的任意字符\n",
    "+ 与“.”类似（但不相同）的一个符号是“\\S”，表示不是空白符的任意字符。注意是大写字符S。\n"
   ],
   "cell_type": "markdown",
   "metadata": {}
  },
  {
   "cell_type": "code",
   "execution_count": 6,
   "metadata": {},
   "outputs": [
    {
     "output_type": "stream",
     "name": "stdout",
     "text": [
      "['I', ' ', 'a', 'm', ' ', 'a', ' ', 's', 't', 'u', 'd', 'e', 'n', 't', ',', ' ', 'I', ' ', 'a', 'm', ' ', '2', '2', ' ', 'y', 'e', 'a', 'r', 's', ' ', 'o', 'l', 'd', '.']\n['I', 'a', 'm', 'a', 's', 't', 'u', 'd', 'e', 'n', 't', ',', 'I', 'a', 'm', '2', '2', 'y', 'e', 'a', 'r', 's', 'o', 'l', 'd', '.']\n"
     ]
    }
   ],
   "source": [
    "import re\n",
    "s='I am a student, I am 22 years old.'\n",
    "print(re.findall('.',s))   #除换行符以外的所有字符，连空格也匹配到了\n",
    "print(re.findall('\\S',s))  #不是空白符的任意字符，所以没有匹配空格"
   ]
  },
  {
   "source": [
    "+ 元字符'[]'  \n",
    "+ 常用来指定一个字符集：\\[abc]、\\[a-z]、\\[0-9]  \n",
    "+ 元字符在字符集中不起作用：\\[akm$]、\\[m.]  \n",
    "+ 补集，匹配不在区间范围内的字符：\\[^3]  \n",
    " "
   ],
   "cell_type": "markdown",
   "metadata": {}
  },
  {
   "cell_type": "code",
   "execution_count": 10,
   "metadata": {},
   "outputs": [
    {
     "output_type": "stream",
     "name": "stdout",
     "text": [
      "['ab', 'ab', 'ab', 'ab']\n['abc', 'abc', 'acc', 'adc']\n[]\n"
     ]
    }
   ],
   "source": [
    "import re\n",
    "s='abc acb bac bca cab cba abbc aabc acc adc'\n",
    "print(re.findall(r'ab',s))\n",
    "print(re.findall(r'a[abcd]c',s))\n",
    "print(re.findall(r'a[.]c',s))  #'.'在[]中不起作用了"
   ]
  },
  {
   "cell_type": "code",
   "execution_count": 16,
   "metadata": {},
   "outputs": [
    {
     "output_type": "stream",
     "name": "stdout",
     "text": [
      "['x3x', 'x6x']\n['x3x', 'x6x']\n['x6x']\n"
     ]
    }
   ],
   "source": [
    "import re\n",
    "s='0x12x3x45x6x78x9'\n",
    "print(re.findall(r'x[0123456789]x',s))\n",
    "print(re.findall(r'x[0-9]x',s))\n",
    "print(re.findall(r'x[^3]x',s))   #匹配除了3之外的所有字符"
   ]
  },
  {
   "source": [
    "+ '^'匹配行首，即匹配^后面的字符的第一个\n",
    "+ '$'匹配行尾"
   ],
   "cell_type": "markdown",
   "metadata": {}
  },
  {
   "cell_type": "code",
   "execution_count": 20,
   "metadata": {},
   "outputs": [
    {
     "output_type": "stream",
     "name": "stdout",
     "text": [
      "['hello']\n[]\n['hello']\n"
     ]
    }
   ],
   "source": [
    "import re\n",
    "s='hello world hello gray hello Lily hello Lucy'\n",
    "print(re.findall(r'^hello',s))\n",
    "print(re.findall(r'hello$',s))\n",
    "s='hello world hello gray hello Lily hello Lucy hello'\n",
    "print(re.findall(r'hello$',s))"
   ]
  },
  {
   "source": [
    "'''\n",
    "“\\”：反斜杠后面可以加不同的字符以表示不同的特殊意义。\n",
    "\\b匹配单词头或单词尾；\n",
    "\\B与\\b相反，匹配非单词头或单词尾；\n",
    "\\d匹配任何十进制数；相当于[0-9]\n",
    "\\D与\\d相反，匹配任何非数字字符；相当于[^0-9]\n",
    "\\s匹配任何空白字符；相当于[\\t\\n\\r\\f\\v]\n",
    "\\S与\\s相反，匹配任何非空白字符；相当于[^\\t\\n\\r\\f\\v]\n",
    "\\w匹配任何字母数字下划线字符；相当于[a-zA-Z0-9_]\n",
    "\\W与\\w相反，匹配任何非字母数字下划线字符；相当于[^a-zA-Z0-9_]\n",
    "也可以用于取消所有的元字符：\\\\、\\[\n",
    "这些特殊字符都可以包含在[]中。如：[\\s,.]将匹配任何空白字符或\",\"或\".\"。\n",
    "'''"
   ],
   "cell_type": "code",
   "metadata": {},
   "execution_count": null,
   "outputs": []
  },
  {
   "cell_type": "code",
   "execution_count": 26,
   "metadata": {},
   "outputs": [
    {
     "output_type": "stream",
     "name": "stdout",
     "text": [
      "['0', '1', '2', '3', '4', '5', '6', '7', '8', '9']\n['0', '1', '2', '3', '4', '5', '6', '7', '8', '9']\n['0', '1', '2', '3', '4', '5', '6', '7', '8', '9']\n['0', 'x', '1', '2', 'x', '3', 'x', '4', '5', 'x', '6', 'x', '7', '8', 'x', '9']\n"
     ]
    }
   ],
   "source": [
    "import re\n",
    "s='0x12x3x45x6x78x9'\n",
    "print(re.findall(r'[0-9]',s))\n",
    "print(re.findall(r'\\d',s))\n",
    "print(re.findall(r'[\\d]',s))\n",
    "print(re.findall(r'[x\\d]',s))"
   ]
  },
  {
   "source": [
    "+ 正则表达式除了能够匹配不定长的字符集，还能指定正则表达式的一部分的重复次数，所涉及的元字符有“*”、“+”、“?”、“{}”。  \n",
    "    - “\\*”：匹配位于\\*之前的字符或子模式的0次或多次出现。  \n",
    "    - “+”：匹配位于+之前的字符或子模式的1次或多次出现。  \n",
    "    - “?”：匹配位于?之前的0个或1个字符。\n",
    "    - 当?紧随其它限定符（*、+、{n}、{n,}、{n,m}）之后时，匹配模式是“非贪心的”。“非贪心的”模式匹配搜索到的、尽可能短的字符串，而默认的“贪心的”模式匹配搜索到的、尽可能长的字符串。\n",
    "\n"
   ],
   "cell_type": "markdown",
   "metadata": {}
  },
  {
   "cell_type": "code",
   "execution_count": 1,
   "metadata": {},
   "outputs": [
    {
     "output_type": "stream",
     "name": "stdout",
     "text": [
      "['a', 'ab', 'abbb', 'abbbbbb', 'abbbbbbb', 'a']\n['ab', 'abbb', 'abbbbbb', 'abbbbbbb']\n['ab', 'ab', 'ab', 'ab']\n"
     ]
    }
   ],
   "source": [
    "import re \n",
    "s='a ab abbb abbbbbb abbbbbbbxa'\n",
    "print(re.findall(r'ab*',s))  #匹配位于*之前的字符或子模式的0次或多次出现\n",
    "print(re.findall(r'ab+',s))  #最大模式，贪心模式\n",
    "print(re.findall(r'ab+?',s)) #最小模式，非贪心模式"
   ]
  },
  {
   "cell_type": "code",
   "execution_count": 12,
   "metadata": {},
   "outputs": [
    {
     "output_type": "stream",
     "name": "stdout",
     "text": [
      "['hi,i am a student.my name is Hilton.', '']\n['de', 'me']\n['hi,i am a student.my name']\n['i,i am a student.my name']\n['i,i am a student.my name']\n['i,i am a stude']\n['i,i am a stude']\n"
     ]
    }
   ],
   "source": [
    "#下面这个例子感受到了正则表达式的难度\n",
    "s='hi,i am a student.my name is Hilton.'\n",
    "print(re.findall(r'.*',s))\n",
    "print(re.findall(r'.e',s))\n",
    "print(re.findall(r'.*e',s))\n",
    "print(re.findall(r'i.*e',s))\n",
    "print(re.findall(r'i.+e',s))\n",
    "print(re.findall(r'i.+?e',s))  #最小模式，非贪心模式\n",
    "print(re.findall(r'i.*?e',s))"
   ]
  },
  {
   "source": [
    "+ “{m,n}”：表示至少有m个重复，至多有n个重复。m,n均为十进制数。  \n",
    "+ 忽略m表示0个重复，忽略n表示无穷多个重复。  \n",
    "+ {0,}等同于\\*；{1,}等同于+；{0,1}与?相同。但是如果可以的话，最好使用\\*、+、或？  "
   ],
   "cell_type": "markdown",
   "metadata": {}
  },
  {
   "cell_type": "code",
   "execution_count": 16,
   "metadata": {},
   "outputs": [
    {
     "output_type": "stream",
     "name": "stdout",
     "text": [
      "['a', 'a', 'aa', 'a', 'a', 'aa', 'a', 'aa', 'a']\n['aa', 'aa', 'aa']\n['aaa', 'aa', 'aaa']\n['a', '', 'a', '', '', '', '', '', 'aa', 'a', '', 'a', '', 'aa', '', '', '', 'a', '', 'aa', 'a', '']\n"
     ]
    }
   ],
   "source": [
    "import re\n",
    "s='a abbb baaa abaab babaaa'\n",
    "print(re.findall(r'a{1,2}',s))\n",
    "print(re.findall(r'a{2}',s))\n",
    "print(re.findall(r'a{2,}',s))\n",
    "print(re.findall(r'a{,2}',s))"
   ]
  },
  {
   "cell_type": "code",
   "execution_count": null,
   "metadata": {},
   "outputs": [],
   "source": [
    "'''\n",
    "最简单的正则表达式是普通字符串，可以匹配自身\n",
    "'[pjc]ython' 可以匹配'python'、'jython'、'cython'\n",
    "'[a-zA-Z0-9]'可以匹配一个任意大小写字母或数字\n",
    "'[^abc]'可以一个匹配任意除'a'、'b'、'c'之外的字符\n",
    "'python|perl'或'p(ython|erl)'都可以匹配'python'或'perl'\n",
    "'^http'只能匹配所有以'http'开头的字符串\n",
    "(pattern)*：允许模式重复0次或多次\n",
    "(pattern)+：允许模式重复1次或多次\n",
    "(pattern){m,n}：允许模式重复m~n次\n",
    "'''"
   ]
  },
  {
   "source": [
    "#随机产生10个长度为1~25之间，由字母、数字、和“_”、“.”、“#”、“%”特殊字符组成的字符串构成列表，找出列表中符合下列要求的字符串：长度为5-20，必须以字母开头、可带数字、“_”、“.”。\n",
    "import re\n",
    "import random\n",
    "import string\n",
    "lst=[''.join([random.choice(string.ascii_letters+'0123456789.*#%') for i in range(random.choice(range(1,26)))]) for j in range(10)]\n",
    "print(lst)\n",
    "print([lst[i] for i in range(len(lst)) if lst[i][0] in string.ascii_letters and 4<len(lst[i])<21 and re.findall('[#%]',lst[i])==[]])"
   ],
   "cell_type": "code",
   "metadata": {},
   "execution_count": null,
   "outputs": []
  },
  {
   "cell_type": "code",
   "execution_count": 117,
   "metadata": {},
   "outputs": [
    {
     "output_type": "stream",
     "name": "stdout",
     "text": [
      "['LrJNfc1TVF#7xpwq1rQF', '7ej%H#JUV*g8Y6SIh%', '.rgCGDe6MJYxit.', 'UnBYAt9', 'XMRYTzJu7c#n%AZd0cjvCk', '%eu99%s%g.HJi.0aD#K#pcggq', '17pNiyB0xA8B', '5RMr', 'KPdN', 'rZb']\n['UnBYAt9']\n"
     ]
    }
   ],
   "source": [
    "#不得不说，我这两行代码写的像诗一样\n",
    "import re\n",
    "import random\n",
    "import string\n",
    "lst=[''.join([random.choice(string.ascii_letters+'0123456789.*#%') for i in range(random.choice(range(1,26)))]) for j in range(10)]\n",
    "print(lst)\n",
    "print([lst[i] for i in range(len(lst)) if lst[i][0] in string.ascii_letters and 4<len(lst[i])<21 and re.findall('[#%]',lst[i])==[]])"
   ]
  },
  {
   "cell_type": "code",
   "execution_count": 119,
   "metadata": {},
   "outputs": [
    {
     "output_type": "stream",
     "name": "stdout",
     "text": [
      "列表 ['Pc_tZUV', 'oeS', 'ZUWsjsxdB5#', 'kp1HhTy0vQuVj8Wwiui07w', '4.#', 'ABGT2OSuKCOX%p5', '0Tk7QlB0slhm2', '206A6Yl8wwYbqD2oMwGQ_%un', 'CFPQ.aTJe', 'jZUqmr']\nPc_tZUV\nCFPQ.aTJe\njZUqmr\n"
     ]
    }
   ],
   "source": [
    "# 接下来就有点尴尬了，老师的方法比我高明100倍\n",
    "import re\n",
    "import random\n",
    "import string\n",
    "lst=[''.join([random.choice(string.ascii_letters+string.digits+'_.#%') for i in range(random.randint(1,25))]) for j in range(10)]\n",
    "print('列表',lst)\n",
    "r=r'^[a-zA-Z]{1}[a-zA-Z0-9_.]{4,19}$'   #这里面使用了^匹配的是行首，而$匹配的是行尾的方法，且使用{m,n}表示重复次数，我上面写的代码根本没有学会正则表达式的方法啊！\n",
    "for i in lst:\n",
    "    if re.findall(r,i):\n",
    "        print(i)"
   ]
  },
  {
   "cell_type": "code",
   "execution_count": 124,
   "metadata": {},
   "outputs": [
    {
     "output_type": "stream",
     "name": "stdout",
     "text": [
      "随机密码1 JwEd7~JkHZ\n随机密码2 Lr~AKpK0YT\n随机密码3 tlt@_0i&T7\n随机密码4 0USoGlpO4b\n随机密码5 oTjB$cXKFF\n随机密码6 m5C2Ex6ZXV\n随机密码7 KqWQi&6cXz\n随机密码8 @GScKHvD0k\n随机密码9 v3TGa8JcT9\n随机密码10 e5yoHF8E@N\n随机密码11 g~OWx$AiMl\n随机密码12 5@3~Er0~OK\n随机密码13 9Xdo_~5QtE\n随机密码14 rsCusRER_n\n随机密码15 _ptRHNUdif\n"
     ]
    }
   ],
   "source": [
    "#生成15个包括10个字符的随机密码，密码中的字符只能是大小写字母、数字和特殊字符“@”、“$”、“#”、“&”、“_”、“~”构成。\n",
    "import re\n",
    "import random\n",
    "import string\n",
    "lst=[''.join([random.choice(string.ascii_letters+string.digits+'@$#&_~') for i in range(10)]) for j in range(15)]\n",
    "for i in range(len(lst)):\n",
    "    print('随机密码'+str(i+1),lst[i])"
   ]
  },
  {
   "cell_type": "code",
   "execution_count": 153,
   "metadata": {},
   "outputs": [
    {
     "output_type": "stream",
     "name": "stdout",
     "text": [
      "['13915556234']\n['15202362459']\n['13555555555']\n如果不加上$会出现以上问题，正确答案应该是下面这样\n['13915556234']\n['15202362459']\n"
     ]
    }
   ],
   "source": [
    "#给定列表x=[“13915556234”, “13025621456”, “15325645124”, “15202362459”]，检查列表中的元素是否为移动手机号码，这里移动手机号码的规则是：手机号码共11位数字；以13开头，后面跟4、5、6、7、8、9中的某一个；或者以15开头，后面跟0、1、2、8、9中的某一个。\n",
    "x=['13915556234','13025621456','15325645124','15202362459','134777777','1355555555555555']\n",
    "for i in x:\n",
    "    if re.findall(r'^13[456789][0-9]{8}',i):\n",
    "        print(re.findall(r'^13[456789][0-9]{8}',i))\n",
    "    if re.findall(r'^15[01289][0-9]{8}$',i):\n",
    "        print(re.findall(r'^15[01289][0-9]{8}$',i))\n",
    "print('如果不加上$会出现以上问题，正确答案应该是下面这样')\n",
    "x=['13915556234','13025621456','15325645124','15202362459','134777777','1355555555555555']\n",
    "for i in x:\n",
    "    if re.findall(r'^13[456789][0-9]{8}$',i):\n",
    "        print(re.findall(r'^13[456789][0-9]{8}$',i))\n",
    "    if re.findall(r'^15[01289][0-9]{8}$',i):\n",
    "        print(re.findall(r'^15[01289][0-9]{8}$',i))"
   ]
  },
  {
   "cell_type": "code",
   "execution_count": null,
   "metadata": {},
   "outputs": [],
   "source": []
  }
 ]
}